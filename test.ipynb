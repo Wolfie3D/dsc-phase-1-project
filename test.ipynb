{
 "cells": [
  {
   "cell_type": "code",
   "execution_count": 1,
   "metadata": {},
   "outputs": [
    {
     "name": "stdout",
     "output_type": "stream",
     "text": [
      "                          genre_ids\n",
      "0  Action|Adventure|Science Fiction\n",
      "1   Adventure|Drama|Science Fiction\n",
      "2                     Drama|Western\n",
      "3  Action|Science Fiction|Adventure\n"
     ]
    }
   ],
   "source": [
    "import pandas as pd\n",
    "\n",
    "# Create a sample DataFrame with a 'genre_ids' column\n",
    "data = {\n",
    "    'genre_ids': [['Action', 'Adventure', 'Science Fiction'],\n",
    "                  ['Adventure', 'Drama', 'Science Fiction'],\n",
    "                  ['Drama', 'Western'],\n",
    "                  ['Action', 'Science Fiction', 'Adventure']]\n",
    "}\n",
    "\n",
    "df = pd.DataFrame(data)\n",
    "\n",
    "# Apply the join operation to the 'genre_ids' column\n",
    "df['genre_ids'] = df['genre_ids'].apply(lambda x: '|'.join(x))\n",
    "\n",
    "# Display the updated DataFrame\n",
    "print(df)\n"
   ]
  },
  {
   "cell_type": "code",
   "execution_count": 1,
   "metadata": {},
   "outputs": [
    {
     "name": "stdout",
     "output_type": "stream",
     "text": [
      "28|12|878\n"
     ]
    }
   ],
   "source": [
    "my_list = [28, 12, 878]\n",
    "\n",
    "# Convert integers to strings and use join()\n",
    "result = \"|\".join(map(str, my_list))\n",
    "\n",
    "print(result)"
   ]
  },
  {
   "cell_type": "code",
   "execution_count": 6,
   "metadata": {},
   "outputs": [
    {
     "name": "stdout",
     "output_type": "stream",
     "text": [
      "['28 | 12 | 878', '28 | 12 | 878', '28 | 12 | 878', '28 | 12 | 878']\n"
     ]
    }
   ],
   "source": [
    "my_list = [[28, 12, 878], [28, 12, 878], [28, 12, 878], [28, 12, 878]]\n",
    "\n",
    "# Convert each inner list to a string and join them using '|'\n",
    "result = [\" | \".join(map(str, inner_list)) for inner_list in my_list]\n",
    "\n",
    "print(result)\n"
   ]
  },
  {
   "cell_type": "code",
   "execution_count": null,
   "metadata": {},
   "outputs": [],
   "source": []
  }
 ],
 "metadata": {
  "kernelspec": {
   "display_name": "learn-env",
   "language": "python",
   "name": "python3"
  },
  "language_info": {
   "codemirror_mode": {
    "name": "ipython",
    "version": 3
   },
   "file_extension": ".py",
   "mimetype": "text/x-python",
   "name": "python",
   "nbconvert_exporter": "python",
   "pygments_lexer": "ipython3",
   "version": "3.8.5"
  },
  "orig_nbformat": 4
 },
 "nbformat": 4,
 "nbformat_minor": 2
}
